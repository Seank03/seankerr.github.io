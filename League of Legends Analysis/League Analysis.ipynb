{
 "cells": [
  {
   "cell_type": "markdown",
   "id": "925cf657",
   "metadata": {},
   "source": [
    "## Sean Kerr Week 12"
   ]
  },
  {
   "cell_type": "code",
   "execution_count": 39,
   "id": "702e23a2",
   "metadata": {},
   "outputs": [],
   "source": [
    "from os.path import basename, exists\n",
    "\n",
    "def download(url):\n",
    "    filename = basename(url)\n",
    "    if not exists(filename):\n",
    "        from urllib.request import urlretrieve\n",
    "\n",
    "        local, _ = urlretrieve(url, filename)\n",
    "        print(\"Downloaded \" + local)\n",
    "\n",
    "\n",
    "download(\"https://github.com/AllenDowney/ThinkStats2/raw/master/code/thinkstats2.py\")\n",
    "download(\"https://github.com/AllenDowney/ThinkStats2/raw/master/code/thinkplot.py\")\n",
    "\n",
    "\n",
    "import numpy as np\n",
    "import pandas as pd\n",
    "import thinkstats2\n",
    "import thinkplot\n",
    "import statsmodels.formula.api as smf"
   ]
  },
  {
   "cell_type": "code",
   "execution_count": 44,
   "id": "f83ef163",
   "metadata": {},
   "outputs": [],
   "source": [
    "df = pd.read_csv(\"C:/Users/Sean/Desktop/Gradschool/api_bruh.csv\")"
   ]
  },
  {
   "cell_type": "code",
   "execution_count": 11,
   "id": "1db752ee",
   "metadata": {},
   "outputs": [
    {
     "data": {
      "text/plain": [
       "array([[<AxesSubplot:title={'center':'SUP.Gold.Earned'}>,\n",
       "        <AxesSubplot:title={'center':'sup_cs10'}>],\n",
       "       [<AxesSubplot:title={'center':'Adc.Gold.Earned'}>,\n",
       "        <AxesSubplot:title={'center':'adc_cs10'}>]], dtype=object)"
      ]
     },
     "execution_count": 11,
     "metadata": {},
     "output_type": "execute_result"
    },
    {
     "data": {
      "image/png": "[encoded data removed]",
      "text/plain": [
       "<Figure size 432x288 with 4 Axes>"
      ]
     },
     "metadata": {
      "needs_background": "light"
     },
     "output_type": "display_data"
    }
   ],
   "source": [
    "df.hist(bins = 6)"
   ]
  },
  {
   "cell_type": "code",
   "execution_count": 12,
   "id": "5c852f95",
   "metadata": {},
   "outputs": [
    {
     "data": {
      "text/html": [
       "<div>\n",
       "<style scoped>\n",
       "    .dataframe tbody tr th:only-of-type {\n",
       "        vertical-align: middle;\n",
       "    }\n",
       "\n",
       "    .dataframe tbody tr th {\n",
       "        vertical-align: top;\n",
       "    }\n",
       "\n",
       "    .dataframe thead th {\n",
       "        text-align: right;\n",
       "    }\n",
       "</style>\n",
       "<table border=\"1\" class=\"dataframe\">\n",
       "  <thead>\n",
       "    <tr style=\"text-align: right;\">\n",
       "      <th></th>\n",
       "      <th>SUP.Gold.Earned</th>\n",
       "      <th>sup_cs10</th>\n",
       "      <th>Adc.Gold.Earned</th>\n",
       "      <th>adc_cs10</th>\n",
       "    </tr>\n",
       "  </thead>\n",
       "  <tbody>\n",
       "    <tr>\n",
       "      <th>count</th>\n",
       "      <td>10.000000</td>\n",
       "      <td>10.000000</td>\n",
       "      <td>10.00000</td>\n",
       "      <td>10.000000</td>\n",
       "    </tr>\n",
       "    <tr>\n",
       "      <th>mean</th>\n",
       "      <td>8181.200000</td>\n",
       "      <td>8.700000</td>\n",
       "      <td>12862.90000</td>\n",
       "      <td>67.600000</td>\n",
       "    </tr>\n",
       "    <tr>\n",
       "      <th>std</th>\n",
       "      <td>2300.746198</td>\n",
       "      <td>6.342975</td>\n",
       "      <td>3605.09992</td>\n",
       "      <td>11.730303</td>\n",
       "    </tr>\n",
       "    <tr>\n",
       "      <th>min</th>\n",
       "      <td>5723.000000</td>\n",
       "      <td>0.000000</td>\n",
       "      <td>7847.00000</td>\n",
       "      <td>52.000000</td>\n",
       "    </tr>\n",
       "    <tr>\n",
       "      <th>25%</th>\n",
       "      <td>6499.500000</td>\n",
       "      <td>2.750000</td>\n",
       "      <td>10178.75000</td>\n",
       "      <td>57.500000</td>\n",
       "    </tr>\n",
       "    <tr>\n",
       "      <th>50%</th>\n",
       "      <td>7754.500000</td>\n",
       "      <td>9.500000</td>\n",
       "      <td>13290.50000</td>\n",
       "      <td>67.500000</td>\n",
       "    </tr>\n",
       "    <tr>\n",
       "      <th>75%</th>\n",
       "      <td>9251.000000</td>\n",
       "      <td>14.000000</td>\n",
       "      <td>15972.25000</td>\n",
       "      <td>73.500000</td>\n",
       "    </tr>\n",
       "    <tr>\n",
       "      <th>max</th>\n",
       "      <td>13372.000000</td>\n",
       "      <td>16.000000</td>\n",
       "      <td>17898.00000</td>\n",
       "      <td>85.000000</td>\n",
       "    </tr>\n",
       "  </tbody>\n",
       "</table>\n",
       "</div>"
      ],
      "text/plain": [
       "       SUP.Gold.Earned   sup_cs10  Adc.Gold.Earned   adc_cs10\n",
       "count        10.000000  10.000000         10.00000  10.000000\n",
       "mean       8181.200000   8.700000      12862.90000  67.600000\n",
       "std        2300.746198   6.342975       3605.09992  11.730303\n",
       "min        5723.000000   0.000000       7847.00000  52.000000\n",
       "25%        6499.500000   2.750000      10178.75000  57.500000\n",
       "50%        7754.500000   9.500000      13290.50000  67.500000\n",
       "75%        9251.000000  14.000000      15972.25000  73.500000\n",
       "max       13372.000000  16.000000      17898.00000  85.000000"
      ]
     },
     "execution_count": 12,
     "metadata": {},
     "output_type": "execute_result"
    }
   ],
   "source": [
    "df.describe()"
   ]
  },
  {
   "cell_type": "code",
   "execution_count": 13,
   "id": "19199023",
   "metadata": {},
   "outputs": [],
   "source": [
    "df_low = df[df[\"sup_cs10\"] <= 5]\n",
    "df_high = df[df[\"sup_cs10\"] > 5]"
   ]
  },
  {
   "cell_type": "code",
   "execution_count": 15,
   "id": "90bdf60e",
   "metadata": {},
   "outputs": [],
   "source": [
    "pmf_low = thinkstats2.Pmf(df_low[\"Did.Win\"])\n",
    "pmf_high = thinkstats2.Pmf(df_high[\"Did.Win\"])"
   ]
  },
  {
   "cell_type": "code",
   "execution_count": 17,
   "id": "f357a412",
   "metadata": {},
   "outputs": [
    {
     "name": "stdout",
     "output_type": "stream",
     "text": [
      "Pmf({True: 0.75, False: 0.25})\n",
      "Pmf({False: 0.6666666666666666, True: 0.3333333333333333})\n"
     ]
    }
   ],
   "source": [
    "print(pmf_low)\n",
    "print(pmf_high)"
   ]
  },
  {
   "cell_type": "code",
   "execution_count": 20,
   "id": "58bb2248",
   "metadata": {},
   "outputs": [],
   "source": [
    "cdf = thinkstats2.Cdf(df[\"sup_cs10\"])"
   ]
  },
  {
   "cell_type": "code",
   "execution_count": 21,
   "id": "31e96593",
   "metadata": {},
   "outputs": [
    {
     "name": "stdout",
     "output_type": "stream",
     "text": [
      "Cdf([ 0  1  2  5  8 11 14 16], [0.1 0.2 0.3 0.4 0.5 0.6 0.8 1. ])\n"
     ]
    }
   ],
   "source": [
    "print(cdf)"
   ]
  },
  {
   "cell_type": "code",
   "execution_count": 22,
   "id": "661f7755",
   "metadata": {},
   "outputs": [
    {
     "data": {
      "text/plain": [
       "{'xscale': 'linear', 'yscale': 'linear'}"
      ]
     },
     "execution_count": 22,
     "metadata": {},
     "output_type": "execute_result"
    },
    {
     "data": {
      "image/png": "[encoded data removed]",
      "text/plain": [
       "<Figure size 432x288 with 1 Axes>"
      ]
     },
     "metadata": {
      "needs_background": "light"
     },
     "output_type": "display_data"
    }
   ],
   "source": [
    "thinkplot.Cdf(cdf)"
   ]
  },
  {
   "cell_type": "code",
   "execution_count": 23,
   "id": "769a26b7",
   "metadata": {},
   "outputs": [
    {
     "data": {
      "text/plain": [
       "<AxesSubplot:xlabel='SUP.Gold.Earned', ylabel='Adc.Gold.Earned'>"
      ]
     },
     "execution_count": 23,
     "metadata": {},
     "output_type": "execute_result"
    },
    {
     "data": {
      "image/png": "[encoded data removed]",
      "text/plain": [
       "<Figure size 432x288 with 1 Axes>"
      ]
     },
     "metadata": {
      "needs_background": "light"
     },
     "output_type": "display_data"
    }
   ],
   "source": [
    "df.plot.scatter(x = \"SUP.Gold.Earned\", y = \"Adc.Gold.Earned\")"
   ]
  },
  {
   "cell_type": "code",
   "execution_count": 24,
   "id": "17b8f9f0",
   "metadata": {},
   "outputs": [
    {
     "data": {
      "text/plain": [
       "<AxesSubplot:xlabel='sup_cs10', ylabel='adc_cs10'>"
      ]
     },
     "execution_count": 24,
     "metadata": {},
     "output_type": "execute_result"
    },
    {
     "data": {
      "image/png": "[encoded data removed]",
      "text/plain": [
       "<Figure size 432x288 with 1 Axes>"
      ]
     },
     "metadata": {
      "needs_background": "light"
     },
     "output_type": "display_data"
    }
   ],
   "source": [
    "df.plot.scatter(x = \"sup_cs10\", y = \"adc_cs10\")"
   ]
  },
  {
   "cell_type": "code",
   "execution_count": 25,
   "id": "b5e62c36",
   "metadata": {},
   "outputs": [],
   "source": [
    "class CorrelationPermute(thinkstats2.HypothesisTest):\n",
    "\n",
    "    def TestStatistic(self, data):\n",
    "        xs, ys = data\n",
    "        test_stat = abs(thinkstats2.Corr(xs, ys))\n",
    "        return test_stat\n",
    "\n",
    "    def RunModel(self):\n",
    "        xs, ys = self.data\n",
    "        xs = np.random.permutation(xs)\n",
    "        return xs, ys"
   ]
  },
  {
   "cell_type": "code",
   "execution_count": 38,
   "id": "49f6303b",
   "metadata": {},
   "outputs": [
    {
     "name": "stdout",
     "output_type": "stream",
     "text": [
      "0.097\n",
      "0.5484028176193346\n",
      "0.9140046960322245\n"
     ]
    }
   ],
   "source": [
    "df_sub = df[[\"sup_cs10\", \"Did_Win\"]]\n",
    "data = df_sub.sup_cs10.values, df_sub.Did_Win.values\n",
    "ht = CorrelationPermute(data)\n",
    "print(ht.PValue())\n",
    "print(ht.actual)\n",
    "print(ht.MaxTestStat())"
   ]
  },
  {
   "cell_type": "code",
   "execution_count": 46,
   "id": "e54463c8",
   "metadata": {},
   "outputs": [],
   "source": [
    "n = len(df[\"Did_Win\"])\n",
    "win_num = []\n",
    "for val in df[\"Did_Win\"]:\n",
    "    if val:\n",
    "        win_num.append(1)\n",
    "    else:\n",
    "        win_num.append(0)"
   ]
  },
  {
   "cell_type": "code",
   "execution_count": 47,
   "id": "cbd5c9ca",
   "metadata": {},
   "outputs": [
    {
     "name": "stdout",
     "output_type": "stream",
     "text": [
      "Optimization terminated successfully.\n",
      "         Current function value: 0.529364\n",
      "         Iterations 6\n"
     ]
    },
    {
     "name": "stderr",
     "output_type": "stream",
     "text": [
      "C:\\Users\\Sean\\AppData\\Local\\Temp/ipykernel_3816/2051689524.py:2: SettingWithCopyWarning: \n",
      "A value is trying to be set on a copy of a slice from a DataFrame.\n",
      "Try using .loc[row_indexer,col_indexer] = value instead\n",
      "\n",
      "See the caveats in the documentation: https://pandas.pydata.org/pandas-docs/stable/user_guide/indexing.html#returning-a-view-versus-a-copy\n",
      "  dw_sub[\"Win\"] = win_num\n"
     ]
    },
    {
     "data": {
      "text/html": [
       "<table class=\"simpletable\">\n",
       "<caption>Logit Regression Results</caption>\n",
       "<tr>\n",
       "  <th>Dep. Variable:</th>          <td>Win</td>       <th>  No. Observations:  </th>  <td>    10</td> \n",
       "</tr>\n",
       "<tr>\n",
       "  <th>Model:</th>                 <td>Logit</td>      <th>  Df Residuals:      </th>  <td>     7</td> \n",
       "</tr>\n",
       "<tr>\n",
       "  <th>Method:</th>                 <td>MLE</td>       <th>  Df Model:          </th>  <td>     2</td> \n",
       "</tr>\n",
       "<tr>\n",
       "  <th>Date:</th>            <td>Fri, 03 Jun 2022</td> <th>  Pseudo R-squ.:     </th>  <td>0.2363</td> \n",
       "</tr>\n",
       "<tr>\n",
       "  <th>Time:</th>                <td>20:29:28</td>     <th>  Log-Likelihood:    </th> <td> -5.2936</td>\n",
       "</tr>\n",
       "<tr>\n",
       "  <th>converged:</th>             <td>True</td>       <th>  LL-Null:           </th> <td> -6.9315</td>\n",
       "</tr>\n",
       "<tr>\n",
       "  <th>Covariance Type:</th>     <td>nonrobust</td>    <th>  LLR p-value:       </th>  <td>0.1944</td> \n",
       "</tr>\n",
       "</table>\n",
       "<table class=\"simpletable\">\n",
       "<tr>\n",
       "      <td></td>         <th>coef</th>     <th>std err</th>      <th>z</th>      <th>P>|z|</th>  <th>[0.025</th>    <th>0.975]</th>  \n",
       "</tr>\n",
       "<tr>\n",
       "  <th>Intercept</th> <td>    2.4121</td> <td>    5.805</td> <td>    0.416</td> <td> 0.678</td> <td>   -8.966</td> <td>   13.790</td>\n",
       "</tr>\n",
       "<tr>\n",
       "  <th>sup_cs10</th>  <td>   -0.2230</td> <td>    0.153</td> <td>   -1.457</td> <td> 0.145</td> <td>   -0.523</td> <td>    0.077</td>\n",
       "</tr>\n",
       "<tr>\n",
       "  <th>adc_cs10</th>  <td>   -0.0066</td> <td>    0.075</td> <td>   -0.088</td> <td> 0.930</td> <td>   -0.153</td> <td>    0.140</td>\n",
       "</tr>\n",
       "</table>"
      ],
      "text/plain": [
       "<class 'statsmodels.iolib.summary.Summary'>\n",
       "\"\"\"\n",
       "                           Logit Regression Results                           \n",
       "==============================================================================\n",
       "Dep. Variable:                    Win   No. Observations:                   10\n",
       "Model:                          Logit   Df Residuals:                        7\n",
       "Method:                           MLE   Df Model:                            2\n",
       "Date:                Fri, 03 Jun 2022   Pseudo R-squ.:                  0.2363\n",
       "Time:                        20:29:28   Log-Likelihood:                -5.2936\n",
       "converged:                       True   LL-Null:                       -6.9315\n",
       "Covariance Type:            nonrobust   LLR p-value:                    0.1944\n",
       "==============================================================================\n",
       "                 coef    std err          z      P>|z|      [0.025      0.975]\n",
       "------------------------------------------------------------------------------\n",
       "Intercept      2.4121      5.805      0.416      0.678      -8.966      13.790\n",
       "sup_cs10      -0.2230      0.153     -1.457      0.145      -0.523       0.077\n",
       "adc_cs10      -0.0066      0.075     -0.088      0.930      -0.153       0.140\n",
       "==============================================================================\n",
       "\"\"\""
      ]
     },
     "execution_count": 47,
     "metadata": {},
     "output_type": "execute_result"
    }
   ],
   "source": [
    "dw_sub = df[[\"sup_cs10\", \"adc_cs10\"]]\n",
    "dw_sub[\"Win\"] = win_num \n",
    "\n",
    "model = smf.logit(\"Win ~ sup_cs10 + adc_cs10\", data = dw_sub)\n",
    "results = model.fit()\n",
    "results.summary()"
   ]
  },
  {
   "cell_type": "code",
   "execution_count": null,
   "id": "a4ba768c",
   "metadata": {},
   "outputs": [],
   "source": []
  }
 ],
 "metadata": {
  "kernelspec": {
   "display_name": "Python 3 (ipykernel)",
   "language": "python",
   "name": "python3"
  },
  "language_info": {
   "codemirror_mode": {
    "name": "ipython",
    "version": 3
   },
   "file_extension": ".py",
   "mimetype": "text/x-python",
   "name": "python",
   "nbconvert_exporter": "python",
   "pygments_lexer": "ipython3",
   "version": "3.9.7"
  }
 },
 "nbformat": 4,
 "nbformat_minor": 5
}
