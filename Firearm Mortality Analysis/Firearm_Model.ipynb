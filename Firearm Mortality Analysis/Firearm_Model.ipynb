{
 "cells": [
  {
   "cell_type": "code",
   "execution_count": 30,
   "id": "ed5b11a3",
   "metadata": {},
   "outputs": [],
   "source": [
    "import pandas as pd\n",
    "import numpy as np\n",
    "import matplotlib.pyplot as plt"
   ]
  },
  {
   "cell_type": "code",
   "execution_count": 2,
   "id": "3163cd54",
   "metadata": {},
   "outputs": [],
   "source": [
    "main_df = pd.read_csv('data-table.csv')"
   ]
  },
  {
   "cell_type": "code",
   "execution_count": 3,
   "id": "29c88cb1",
   "metadata": {},
   "outputs": [],
   "source": [
    "main_df.drop(['URL'], axis=1, inplace=True)"
   ]
  },
  {
   "cell_type": "code",
   "execution_count": 4,
   "id": "99622193",
   "metadata": {},
   "outputs": [],
   "source": [
    "data_df = main_df[main_df['YEAR'] != 2005]"
   ]
  },
  {
   "cell_type": "code",
   "execution_count": 5,
   "id": "a301d276",
   "metadata": {},
   "outputs": [
    {
     "data": {
      "text/html": [
       "<div>\n",
       "<style scoped>\n",
       "    .dataframe tbody tr th:only-of-type {\n",
       "        vertical-align: middle;\n",
       "    }\n",
       "\n",
       "    .dataframe tbody tr th {\n",
       "        vertical-align: top;\n",
       "    }\n",
       "\n",
       "    .dataframe thead th {\n",
       "        text-align: right;\n",
       "    }\n",
       "</style>\n",
       "<table border=\"1\" class=\"dataframe\">\n",
       "  <thead>\n",
       "    <tr style=\"text-align: right;\">\n",
       "      <th></th>\n",
       "      <th>YEAR</th>\n",
       "      <th>STATE</th>\n",
       "      <th>RATE</th>\n",
       "      <th>DEATHS</th>\n",
       "    </tr>\n",
       "  </thead>\n",
       "  <tbody>\n",
       "    <tr>\n",
       "      <th>0</th>\n",
       "      <td>2021</td>\n",
       "      <td>AL</td>\n",
       "      <td>26.4</td>\n",
       "      <td>1315</td>\n",
       "    </tr>\n",
       "    <tr>\n",
       "      <th>1</th>\n",
       "      <td>2021</td>\n",
       "      <td>AK</td>\n",
       "      <td>25.2</td>\n",
       "      <td>182</td>\n",
       "    </tr>\n",
       "    <tr>\n",
       "      <th>2</th>\n",
       "      <td>2021</td>\n",
       "      <td>AZ</td>\n",
       "      <td>18.3</td>\n",
       "      <td>1365</td>\n",
       "    </tr>\n",
       "    <tr>\n",
       "      <th>3</th>\n",
       "      <td>2021</td>\n",
       "      <td>AR</td>\n",
       "      <td>23.3</td>\n",
       "      <td>698</td>\n",
       "    </tr>\n",
       "    <tr>\n",
       "      <th>4</th>\n",
       "      <td>2021</td>\n",
       "      <td>CA</td>\n",
       "      <td>9.0</td>\n",
       "      <td>3576</td>\n",
       "    </tr>\n",
       "    <tr>\n",
       "      <th>...</th>\n",
       "      <td>...</td>\n",
       "      <td>...</td>\n",
       "      <td>...</td>\n",
       "      <td>...</td>\n",
       "    </tr>\n",
       "    <tr>\n",
       "      <th>395</th>\n",
       "      <td>2014</td>\n",
       "      <td>VA</td>\n",
       "      <td>10.3</td>\n",
       "      <td>889</td>\n",
       "    </tr>\n",
       "    <tr>\n",
       "      <th>396</th>\n",
       "      <td>2014</td>\n",
       "      <td>WA</td>\n",
       "      <td>9.7</td>\n",
       "      <td>702</td>\n",
       "    </tr>\n",
       "    <tr>\n",
       "      <th>397</th>\n",
       "      <td>2014</td>\n",
       "      <td>WV</td>\n",
       "      <td>14.6</td>\n",
       "      <td>286</td>\n",
       "    </tr>\n",
       "    <tr>\n",
       "      <th>398</th>\n",
       "      <td>2014</td>\n",
       "      <td>WI</td>\n",
       "      <td>8.2</td>\n",
       "      <td>487</td>\n",
       "    </tr>\n",
       "    <tr>\n",
       "      <th>399</th>\n",
       "      <td>2014</td>\n",
       "      <td>WY</td>\n",
       "      <td>16.2</td>\n",
       "      <td>93</td>\n",
       "    </tr>\n",
       "  </tbody>\n",
       "</table>\n",
       "<p>400 rows × 4 columns</p>\n",
       "</div>"
      ],
      "text/plain": [
       "     YEAR STATE  RATE  DEATHS\n",
       "0    2021    AL  26.4    1315\n",
       "1    2021    AK  25.2     182\n",
       "2    2021    AZ  18.3    1365\n",
       "3    2021    AR  23.3     698\n",
       "4    2021    CA   9.0    3576\n",
       "..    ...   ...   ...     ...\n",
       "395  2014    VA  10.3     889\n",
       "396  2014    WA   9.7     702\n",
       "397  2014    WV  14.6     286\n",
       "398  2014    WI   8.2     487\n",
       "399  2014    WY  16.2      93\n",
       "\n",
       "[400 rows x 4 columns]"
      ]
     },
     "execution_count": 5,
     "metadata": {},
     "output_type": "execute_result"
    }
   ],
   "source": [
    "data_df"
   ]
  },
  {
   "cell_type": "code",
   "execution_count": 6,
   "id": "615c482a",
   "metadata": {},
   "outputs": [],
   "source": [
    "grouped_df = data_df.groupby(['YEAR']).agg({'RATE':'mean', 'DEATHS':'sum'})"
   ]
  },
  {
   "cell_type": "code",
   "execution_count": 7,
   "id": "5d2f1d4f",
   "metadata": {},
   "outputs": [
    {
     "data": {
      "text/plain": [
       "<AxesSubplot:xlabel='YEAR'>"
      ]
     },
     "execution_count": 7,
     "metadata": {},
     "output_type": "execute_result"
    },
    {
     "data": {
      "image/png": "[encoded data removed]",
      "text/plain": [
       "<Figure size 432x288 with 1 Axes>"
      ]
     },
     "metadata": {
      "needs_background": "light"
     },
     "output_type": "display_data"
    }
   ],
   "source": [
    "#Sample plot to see the raw RATE data on a graph\n",
    "grouped_df['RATE'].plot()"
   ]
  },
  {
   "cell_type": "code",
   "execution_count": 8,
   "id": "ad9f71db",
   "metadata": {},
   "outputs": [],
   "source": [
    "state_df = data_df.groupby(['STATE','YEAR']).mean().drop([\"DEATHS\"], axis = 1)"
   ]
  },
  {
   "cell_type": "code",
   "execution_count": 9,
   "id": "b1f067f9",
   "metadata": {},
   "outputs": [
    {
     "data": {
      "text/html": [
       "<div>\n",
       "<style scoped>\n",
       "    .dataframe tbody tr th:only-of-type {\n",
       "        vertical-align: middle;\n",
       "    }\n",
       "\n",
       "    .dataframe tbody tr th {\n",
       "        vertical-align: top;\n",
       "    }\n",
       "\n",
       "    .dataframe thead th {\n",
       "        text-align: right;\n",
       "    }\n",
       "</style>\n",
       "<table border=\"1\" class=\"dataframe\">\n",
       "  <thead>\n",
       "    <tr style=\"text-align: right;\">\n",
       "      <th></th>\n",
       "      <th></th>\n",
       "      <th>RATE</th>\n",
       "    </tr>\n",
       "    <tr>\n",
       "      <th>STATE</th>\n",
       "      <th>YEAR</th>\n",
       "      <th></th>\n",
       "    </tr>\n",
       "  </thead>\n",
       "  <tbody>\n",
       "    <tr>\n",
       "      <th rowspan=\"5\" valign=\"top\">AK</th>\n",
       "      <th>2014</th>\n",
       "      <td>19.2</td>\n",
       "    </tr>\n",
       "    <tr>\n",
       "      <th>2015</th>\n",
       "      <td>23.4</td>\n",
       "    </tr>\n",
       "    <tr>\n",
       "      <th>2016</th>\n",
       "      <td>23.3</td>\n",
       "    </tr>\n",
       "    <tr>\n",
       "      <th>2017</th>\n",
       "      <td>24.5</td>\n",
       "    </tr>\n",
       "    <tr>\n",
       "      <th>2018</th>\n",
       "      <td>21.0</td>\n",
       "    </tr>\n",
       "    <tr>\n",
       "      <th>...</th>\n",
       "      <th>...</th>\n",
       "      <td>...</td>\n",
       "    </tr>\n",
       "    <tr>\n",
       "      <th rowspan=\"5\" valign=\"top\">WY</th>\n",
       "      <th>2017</th>\n",
       "      <td>18.8</td>\n",
       "    </tr>\n",
       "    <tr>\n",
       "      <th>2018</th>\n",
       "      <td>21.5</td>\n",
       "    </tr>\n",
       "    <tr>\n",
       "      <th>2019</th>\n",
       "      <td>22.3</td>\n",
       "    </tr>\n",
       "    <tr>\n",
       "      <th>2020</th>\n",
       "      <td>25.9</td>\n",
       "    </tr>\n",
       "    <tr>\n",
       "      <th>2021</th>\n",
       "      <td>26.1</td>\n",
       "    </tr>\n",
       "  </tbody>\n",
       "</table>\n",
       "<p>400 rows × 1 columns</p>\n",
       "</div>"
      ],
      "text/plain": [
       "            RATE\n",
       "STATE YEAR      \n",
       "AK    2014  19.2\n",
       "      2015  23.4\n",
       "      2016  23.3\n",
       "      2017  24.5\n",
       "      2018  21.0\n",
       "...          ...\n",
       "WY    2017  18.8\n",
       "      2018  21.5\n",
       "      2019  22.3\n",
       "      2020  25.9\n",
       "      2021  26.1\n",
       "\n",
       "[400 rows x 1 columns]"
      ]
     },
     "execution_count": 9,
     "metadata": {},
     "output_type": "execute_result"
    }
   ],
   "source": [
    "state_df"
   ]
  },
  {
   "cell_type": "code",
   "execution_count": 10,
   "id": "3dcc55af",
   "metadata": {},
   "outputs": [
    {
     "data": {
      "text/html": [
       "<div>\n",
       "<style scoped>\n",
       "    .dataframe tbody tr th:only-of-type {\n",
       "        vertical-align: middle;\n",
       "    }\n",
       "\n",
       "    .dataframe tbody tr th {\n",
       "        vertical-align: top;\n",
       "    }\n",
       "\n",
       "    .dataframe thead th {\n",
       "        text-align: right;\n",
       "    }\n",
       "</style>\n",
       "<table border=\"1\" class=\"dataframe\">\n",
       "  <thead>\n",
       "    <tr style=\"text-align: right;\">\n",
       "      <th></th>\n",
       "      <th>RATE</th>\n",
       "    </tr>\n",
       "    <tr>\n",
       "      <th>YEAR</th>\n",
       "      <th></th>\n",
       "    </tr>\n",
       "  </thead>\n",
       "  <tbody>\n",
       "    <tr>\n",
       "      <th>2014</th>\n",
       "      <td>7.4</td>\n",
       "    </tr>\n",
       "    <tr>\n",
       "      <th>2015</th>\n",
       "      <td>7.7</td>\n",
       "    </tr>\n",
       "    <tr>\n",
       "      <th>2016</th>\n",
       "      <td>7.9</td>\n",
       "    </tr>\n",
       "    <tr>\n",
       "      <th>2017</th>\n",
       "      <td>7.9</td>\n",
       "    </tr>\n",
       "    <tr>\n",
       "      <th>2018</th>\n",
       "      <td>7.5</td>\n",
       "    </tr>\n",
       "    <tr>\n",
       "      <th>2019</th>\n",
       "      <td>7.2</td>\n",
       "    </tr>\n",
       "    <tr>\n",
       "      <th>2020</th>\n",
       "      <td>8.5</td>\n",
       "    </tr>\n",
       "    <tr>\n",
       "      <th>2021</th>\n",
       "      <td>9.0</td>\n",
       "    </tr>\n",
       "  </tbody>\n",
       "</table>\n",
       "</div>"
      ],
      "text/plain": [
       "      RATE\n",
       "YEAR      \n",
       "2014   7.4\n",
       "2015   7.7\n",
       "2016   7.9\n",
       "2017   7.9\n",
       "2018   7.5\n",
       "2019   7.2\n",
       "2020   8.5\n",
       "2021   9.0"
      ]
     },
     "execution_count": 10,
     "metadata": {},
     "output_type": "execute_result"
    }
   ],
   "source": [
    "ca_df = state_df.loc['CA']\n",
    "ca_df"
   ]
  },
  {
   "cell_type": "code",
   "execution_count": 11,
   "id": "91327858",
   "metadata": {},
   "outputs": [
    {
     "data": {
      "text/html": [
       "<div>\n",
       "<style scoped>\n",
       "    .dataframe tbody tr th:only-of-type {\n",
       "        vertical-align: middle;\n",
       "    }\n",
       "\n",
       "    .dataframe tbody tr th {\n",
       "        vertical-align: top;\n",
       "    }\n",
       "\n",
       "    .dataframe thead th {\n",
       "        text-align: right;\n",
       "    }\n",
       "</style>\n",
       "<table border=\"1\" class=\"dataframe\">\n",
       "  <thead>\n",
       "    <tr style=\"text-align: right;\">\n",
       "      <th></th>\n",
       "      <th>RATE</th>\n",
       "    </tr>\n",
       "    <tr>\n",
       "      <th>YEAR</th>\n",
       "      <th></th>\n",
       "    </tr>\n",
       "  </thead>\n",
       "  <tbody>\n",
       "    <tr>\n",
       "      <th>2014</th>\n",
       "      <td>11.5</td>\n",
       "    </tr>\n",
       "    <tr>\n",
       "      <th>2015</th>\n",
       "      <td>12.0</td>\n",
       "    </tr>\n",
       "    <tr>\n",
       "      <th>2016</th>\n",
       "      <td>12.6</td>\n",
       "    </tr>\n",
       "    <tr>\n",
       "      <th>2017</th>\n",
       "      <td>12.4</td>\n",
       "    </tr>\n",
       "    <tr>\n",
       "      <th>2018</th>\n",
       "      <td>12.9</td>\n",
       "    </tr>\n",
       "    <tr>\n",
       "      <th>2019</th>\n",
       "      <td>12.7</td>\n",
       "    </tr>\n",
       "    <tr>\n",
       "      <th>2020</th>\n",
       "      <td>13.7</td>\n",
       "    </tr>\n",
       "    <tr>\n",
       "      <th>2021</th>\n",
       "      <td>14.1</td>\n",
       "    </tr>\n",
       "  </tbody>\n",
       "</table>\n",
       "</div>"
      ],
      "text/plain": [
       "      RATE\n",
       "YEAR      \n",
       "2014  11.5\n",
       "2015  12.0\n",
       "2016  12.6\n",
       "2017  12.4\n",
       "2018  12.9\n",
       "2019  12.7\n",
       "2020  13.7\n",
       "2021  14.1"
      ]
     },
     "execution_count": 11,
     "metadata": {},
     "output_type": "execute_result"
    }
   ],
   "source": [
    "fl_df = state_df.loc['FL']\n",
    "fl_df"
   ]
  },
  {
   "cell_type": "code",
   "execution_count": 12,
   "id": "0682733c",
   "metadata": {},
   "outputs": [
    {
     "data": {
      "text/html": [
       "<div>\n",
       "<style scoped>\n",
       "    .dataframe tbody tr th:only-of-type {\n",
       "        vertical-align: middle;\n",
       "    }\n",
       "\n",
       "    .dataframe tbody tr th {\n",
       "        vertical-align: top;\n",
       "    }\n",
       "\n",
       "    .dataframe thead th {\n",
       "        text-align: right;\n",
       "    }\n",
       "</style>\n",
       "<table border=\"1\" class=\"dataframe\">\n",
       "  <thead>\n",
       "    <tr style=\"text-align: right;\">\n",
       "      <th></th>\n",
       "      <th>RATE</th>\n",
       "    </tr>\n",
       "    <tr>\n",
       "      <th>YEAR</th>\n",
       "      <th></th>\n",
       "    </tr>\n",
       "  </thead>\n",
       "  <tbody>\n",
       "    <tr>\n",
       "      <th>2014</th>\n",
       "      <td>4.2</td>\n",
       "    </tr>\n",
       "    <tr>\n",
       "      <th>2015</th>\n",
       "      <td>4.2</td>\n",
       "    </tr>\n",
       "    <tr>\n",
       "      <th>2016</th>\n",
       "      <td>4.4</td>\n",
       "    </tr>\n",
       "    <tr>\n",
       "      <th>2017</th>\n",
       "      <td>3.7</td>\n",
       "    </tr>\n",
       "    <tr>\n",
       "      <th>2018</th>\n",
       "      <td>4.1</td>\n",
       "    </tr>\n",
       "    <tr>\n",
       "      <th>2019</th>\n",
       "      <td>3.9</td>\n",
       "    </tr>\n",
       "    <tr>\n",
       "      <th>2020</th>\n",
       "      <td>5.3</td>\n",
       "    </tr>\n",
       "    <tr>\n",
       "      <th>2021</th>\n",
       "      <td>5.4</td>\n",
       "    </tr>\n",
       "  </tbody>\n",
       "</table>\n",
       "</div>"
      ],
      "text/plain": [
       "      RATE\n",
       "YEAR      \n",
       "2014   4.2\n",
       "2015   4.2\n",
       "2016   4.4\n",
       "2017   3.7\n",
       "2018   4.1\n",
       "2019   3.9\n",
       "2020   5.3\n",
       "2021   5.4"
      ]
     },
     "execution_count": 12,
     "metadata": {},
     "output_type": "execute_result"
    }
   ],
   "source": [
    "ny_df = state_df.loc['NY']\n",
    "ny_df"
   ]
  },
  {
   "cell_type": "code",
   "execution_count": 13,
   "id": "63c19445",
   "metadata": {},
   "outputs": [
    {
     "data": {
      "text/html": [
       "<div>\n",
       "<style scoped>\n",
       "    .dataframe tbody tr th:only-of-type {\n",
       "        vertical-align: middle;\n",
       "    }\n",
       "\n",
       "    .dataframe tbody tr th {\n",
       "        vertical-align: top;\n",
       "    }\n",
       "\n",
       "    .dataframe thead th {\n",
       "        text-align: right;\n",
       "    }\n",
       "</style>\n",
       "<table border=\"1\" class=\"dataframe\">\n",
       "  <thead>\n",
       "    <tr style=\"text-align: right;\">\n",
       "      <th></th>\n",
       "      <th>RATE</th>\n",
       "    </tr>\n",
       "    <tr>\n",
       "      <th>YEAR</th>\n",
       "      <th></th>\n",
       "    </tr>\n",
       "  </thead>\n",
       "  <tbody>\n",
       "    <tr>\n",
       "      <th>2014</th>\n",
       "      <td>10.7</td>\n",
       "    </tr>\n",
       "    <tr>\n",
       "      <th>2015</th>\n",
       "      <td>11.7</td>\n",
       "    </tr>\n",
       "    <tr>\n",
       "      <th>2016</th>\n",
       "      <td>12.1</td>\n",
       "    </tr>\n",
       "    <tr>\n",
       "      <th>2017</th>\n",
       "      <td>12.4</td>\n",
       "    </tr>\n",
       "    <tr>\n",
       "      <th>2018</th>\n",
       "      <td>12.2</td>\n",
       "    </tr>\n",
       "    <tr>\n",
       "      <th>2019</th>\n",
       "      <td>12.7</td>\n",
       "    </tr>\n",
       "    <tr>\n",
       "      <th>2020</th>\n",
       "      <td>14.2</td>\n",
       "    </tr>\n",
       "    <tr>\n",
       "      <th>2021</th>\n",
       "      <td>15.6</td>\n",
       "    </tr>\n",
       "  </tbody>\n",
       "</table>\n",
       "</div>"
      ],
      "text/plain": [
       "      RATE\n",
       "YEAR      \n",
       "2014  10.7\n",
       "2015  11.7\n",
       "2016  12.1\n",
       "2017  12.4\n",
       "2018  12.2\n",
       "2019  12.7\n",
       "2020  14.2\n",
       "2021  15.6"
      ]
     },
     "execution_count": 13,
     "metadata": {},
     "output_type": "execute_result"
    }
   ],
   "source": [
    "tx_df = state_df.loc['TX']\n",
    "tx_df"
   ]
  },
  {
   "cell_type": "code",
   "execution_count": 48,
   "id": "ce19d3fe",
   "metadata": {},
   "outputs": [
    {
     "data": {
      "text/html": [
       "<div>\n",
       "<style scoped>\n",
       "    .dataframe tbody tr th:only-of-type {\n",
       "        vertical-align: middle;\n",
       "    }\n",
       "\n",
       "    .dataframe tbody tr th {\n",
       "        vertical-align: top;\n",
       "    }\n",
       "\n",
       "    .dataframe thead th {\n",
       "        text-align: right;\n",
       "    }\n",
       "</style>\n",
       "<table border=\"1\" class=\"dataframe\">\n",
       "  <thead>\n",
       "    <tr style=\"text-align: right;\">\n",
       "      <th></th>\n",
       "      <th>RATE</th>\n",
       "    </tr>\n",
       "    <tr>\n",
       "      <th>YEAR</th>\n",
       "      <th></th>\n",
       "    </tr>\n",
       "  </thead>\n",
       "  <tbody>\n",
       "    <tr>\n",
       "      <th>2014</th>\n",
       "      <td>9.5</td>\n",
       "    </tr>\n",
       "    <tr>\n",
       "      <th>2015</th>\n",
       "      <td>8.9</td>\n",
       "    </tr>\n",
       "    <tr>\n",
       "      <th>2016</th>\n",
       "      <td>9.1</td>\n",
       "    </tr>\n",
       "    <tr>\n",
       "      <th>2017</th>\n",
       "      <td>8.3</td>\n",
       "    </tr>\n",
       "    <tr>\n",
       "      <th>2018</th>\n",
       "      <td>9.0</td>\n",
       "    </tr>\n",
       "    <tr>\n",
       "      <th>2019</th>\n",
       "      <td>10.4</td>\n",
       "    </tr>\n",
       "    <tr>\n",
       "      <th>2020</th>\n",
       "      <td>10.1</td>\n",
       "    </tr>\n",
       "    <tr>\n",
       "      <th>2021</th>\n",
       "      <td>10.3</td>\n",
       "    </tr>\n",
       "  </tbody>\n",
       "</table>\n",
       "</div>"
      ],
      "text/plain": [
       "      RATE\n",
       "YEAR      \n",
       "2014   9.5\n",
       "2015   8.9\n",
       "2016   9.1\n",
       "2017   8.3\n",
       "2018   9.0\n",
       "2019  10.4\n",
       "2020  10.1\n",
       "2021  10.3"
      ]
     },
     "execution_count": 48,
     "metadata": {},
     "output_type": "execute_result"
    }
   ],
   "source": [
    "ne_df = state_df.loc['NE']\n",
    "ne_df"
   ]
  },
  {
   "cell_type": "code",
   "execution_count": 49,
   "id": "7421c826",
   "metadata": {},
   "outputs": [
    {
     "data": {
      "text/html": [
       "<div>\n",
       "<style scoped>\n",
       "    .dataframe tbody tr th:only-of-type {\n",
       "        vertical-align: middle;\n",
       "    }\n",
       "\n",
       "    .dataframe tbody tr th {\n",
       "        vertical-align: top;\n",
       "    }\n",
       "\n",
       "    .dataframe thead th {\n",
       "        text-align: right;\n",
       "    }\n",
       "</style>\n",
       "<table border=\"1\" class=\"dataframe\">\n",
       "  <thead>\n",
       "    <tr style=\"text-align: right;\">\n",
       "      <th></th>\n",
       "      <th>RATE</th>\n",
       "    </tr>\n",
       "    <tr>\n",
       "      <th>YEAR</th>\n",
       "      <th></th>\n",
       "    </tr>\n",
       "  </thead>\n",
       "  <tbody>\n",
       "    <tr>\n",
       "      <th>2014</th>\n",
       "      <td>16.0</td>\n",
       "    </tr>\n",
       "    <tr>\n",
       "      <th>2015</th>\n",
       "      <td>18.6</td>\n",
       "    </tr>\n",
       "    <tr>\n",
       "      <th>2016</th>\n",
       "      <td>18.1</td>\n",
       "    </tr>\n",
       "    <tr>\n",
       "      <th>2017</th>\n",
       "      <td>18.5</td>\n",
       "    </tr>\n",
       "    <tr>\n",
       "      <th>2018</th>\n",
       "      <td>20.7</td>\n",
       "    </tr>\n",
       "    <tr>\n",
       "      <th>2019</th>\n",
       "      <td>22.3</td>\n",
       "    </tr>\n",
       "    <tr>\n",
       "      <th>2020</th>\n",
       "      <td>22.7</td>\n",
       "    </tr>\n",
       "    <tr>\n",
       "      <th>2021</th>\n",
       "      <td>27.8</td>\n",
       "    </tr>\n",
       "  </tbody>\n",
       "</table>\n",
       "</div>"
      ],
      "text/plain": [
       "      RATE\n",
       "YEAR      \n",
       "2014  16.0\n",
       "2015  18.6\n",
       "2016  18.1\n",
       "2017  18.5\n",
       "2018  20.7\n",
       "2019  22.3\n",
       "2020  22.7\n",
       "2021  27.8"
      ]
     },
     "execution_count": 49,
     "metadata": {},
     "output_type": "execute_result"
    }
   ],
   "source": [
    "nm_df = state_df.loc['NM']\n",
    "nm_df"
   ]
  },
  {
   "cell_type": "markdown",
   "id": "81e6c87e",
   "metadata": {},
   "source": [
    "## ARIMA-GARCH"
   ]
  },
  {
   "cell_type": "code",
   "execution_count": 14,
   "id": "93706fe7",
   "metadata": {},
   "outputs": [],
   "source": [
    "import pmdarima\n",
    "import arch"
   ]
  },
  {
   "cell_type": "code",
   "execution_count": 34,
   "id": "e90c749c",
   "metadata": {},
   "outputs": [
    {
     "name": "stderr",
     "output_type": "stream",
     "text": [
      "C:\\Users\\Sean\\AppData\\Roaming\\Python\\Python39\\site-packages\\pmdarima\\arima\\_auto_solvers.py:524: ModelFitWarning: Error fitting  ARIMA(1,0,2)(0,0,0)[0] intercept (if you do not want to see these warnings, run with error_action=\"ignore\").\n",
      "Traceback:\n",
      "Traceback (most recent call last):\n",
      "  File \"C:\\Users\\Sean\\AppData\\Roaming\\Python\\Python39\\site-packages\\pmdarima\\arima\\_auto_solvers.py\", line 508, in _fit_candidate_model\n",
      "    fit.fit(y, X=X, **fit_params)\n",
      "  File \"C:\\Users\\Sean\\AppData\\Roaming\\Python\\Python39\\site-packages\\pmdarima\\arima\\arima.py\", line 603, in fit\n",
      "    self._fit(y, X, **fit_args)\n",
      "  File \"C:\\Users\\Sean\\AppData\\Roaming\\Python\\Python39\\site-packages\\pmdarima\\arima\\arima.py\", line 524, in _fit\n",
      "    fit, self.arima_res_ = _fit_wrapper()\n",
      "  File \"C:\\Users\\Sean\\AppData\\Roaming\\Python\\Python39\\site-packages\\pmdarima\\arima\\arima.py\", line 510, in _fit_wrapper\n",
      "    fitted = arima.fit(\n",
      "  File \"C:\\Users\\Sean\\AppData\\Roaming\\Python\\Python39\\site-packages\\statsmodels\\tsa\\statespace\\mlemodel.py\", line 704, in fit\n",
      "    mlefit = super(MLEModel, self).fit(start_params, method=method,\n",
      "  File \"C:\\Users\\Sean\\AppData\\Roaming\\Python\\Python39\\site-packages\\statsmodels\\base\\model.py\", line 563, in fit\n",
      "    xopt, retvals, optim_settings = optimizer._fit(f, score, start_params,\n",
      "  File \"C:\\Users\\Sean\\AppData\\Roaming\\Python\\Python39\\site-packages\\statsmodels\\base\\optimizer.py\", line 241, in _fit\n",
      "    xopt, retvals = func(objective, gradient, start_params, fargs, kwargs,\n",
      "  File \"C:\\Users\\Sean\\AppData\\Roaming\\Python\\Python39\\site-packages\\statsmodels\\base\\optimizer.py\", line 651, in _fit_lbfgs\n",
      "    retvals = optimize.fmin_l_bfgs_b(func, start_params, maxiter=maxiter,\n",
      "  File \"C:\\ProgramData\\Anaconda3\\lib\\site-packages\\scipy\\optimize\\lbfgsb.py\", line 197, in fmin_l_bfgs_b\n",
      "    res = _minimize_lbfgsb(fun, x0, args=args, jac=jac, bounds=bounds,\n",
      "  File \"C:\\ProgramData\\Anaconda3\\lib\\site-packages\\scipy\\optimize\\lbfgsb.py\", line 360, in _minimize_lbfgsb\n",
      "    f, g = func_and_grad(x)\n",
      "  File \"C:\\ProgramData\\Anaconda3\\lib\\site-packages\\scipy\\optimize\\_differentiable_functions.py\", line 267, in fun_and_grad\n",
      "    self._update_fun()\n",
      "  File \"C:\\ProgramData\\Anaconda3\\lib\\site-packages\\scipy\\optimize\\_differentiable_functions.py\", line 233, in _update_fun\n",
      "    self._update_fun_impl()\n",
      "  File \"C:\\ProgramData\\Anaconda3\\lib\\site-packages\\scipy\\optimize\\_differentiable_functions.py\", line 137, in update_fun\n",
      "    self.f = fun_wrapped(self.x)\n",
      "  File \"C:\\ProgramData\\Anaconda3\\lib\\site-packages\\scipy\\optimize\\_differentiable_functions.py\", line 134, in fun_wrapped\n",
      "    return fun(np.copy(x), *args)\n",
      "  File \"C:\\Users\\Sean\\AppData\\Roaming\\Python\\Python39\\site-packages\\statsmodels\\base\\model.py\", line 531, in f\n",
      "    return -self.loglike(params, *args) / nobs\n",
      "  File \"C:\\Users\\Sean\\AppData\\Roaming\\Python\\Python39\\site-packages\\statsmodels\\tsa\\statespace\\mlemodel.py\", line 939, in loglike\n",
      "    loglike = self.ssm.loglike(complex_step=complex_step, **kwargs)\n",
      "  File \"C:\\Users\\Sean\\AppData\\Roaming\\Python\\Python39\\site-packages\\statsmodels\\tsa\\statespace\\kalman_filter.py\", line 983, in loglike\n",
      "    kfilter = self._filter(**kwargs)\n",
      "  File \"C:\\Users\\Sean\\AppData\\Roaming\\Python\\Python39\\site-packages\\statsmodels\\tsa\\statespace\\kalman_filter.py\", line 903, in _filter\n",
      "    self._initialize_state(prefix=prefix, complex_step=complex_step)\n",
      "  File \"C:\\Users\\Sean\\AppData\\Roaming\\Python\\Python39\\site-packages\\statsmodels\\tsa\\statespace\\representation.py\", line 983, in _initialize_state\n",
      "    self._statespaces[prefix].initialize(self.initialization,\n",
      "  File \"statsmodels\\tsa\\statespace\\_representation.pyx\", line 1362, in statsmodels.tsa.statespace._representation.dStatespace.initialize\n",
      "  File \"statsmodels\\tsa\\statespace\\_initialization.pyx\", line 288, in statsmodels.tsa.statespace._initialization.dInitialization.initialize\n",
      "  File \"statsmodels\\tsa\\statespace\\_initialization.pyx\", line 406, in statsmodels.tsa.statespace._initialization.dInitialization.initialize_stationary_stationary_cov\n",
      "  File \"statsmodels\\tsa\\statespace\\_tools.pyx\", line 1284, in statsmodels.tsa.statespace._tools._dsolve_discrete_lyapunov\n",
      "numpy.linalg.LinAlgError: Schur decomposition solver error.\n",
      "\n",
      "  warnings.warn(warning_str, ModelFitWarning)\n",
      "C:\\Users\\Sean\\AppData\\Roaming\\Python\\Python39\\site-packages\\pmdarima\\arima\\_auto_solvers.py:524: ModelFitWarning: Error fitting  ARIMA(2,0,2)(0,0,0)[0] intercept (if you do not want to see these warnings, run with error_action=\"ignore\").\n",
      "Traceback:\n",
      "Traceback (most recent call last):\n",
      "  File \"C:\\Users\\Sean\\AppData\\Roaming\\Python\\Python39\\site-packages\\pmdarima\\arima\\_auto_solvers.py\", line 508, in _fit_candidate_model\n",
      "    fit.fit(y, X=X, **fit_params)\n",
      "  File \"C:\\Users\\Sean\\AppData\\Roaming\\Python\\Python39\\site-packages\\pmdarima\\arima\\arima.py\", line 603, in fit\n",
      "    self._fit(y, X, **fit_args)\n",
      "  File \"C:\\Users\\Sean\\AppData\\Roaming\\Python\\Python39\\site-packages\\pmdarima\\arima\\arima.py\", line 524, in _fit\n",
      "    fit, self.arima_res_ = _fit_wrapper()\n",
      "  File \"C:\\Users\\Sean\\AppData\\Roaming\\Python\\Python39\\site-packages\\pmdarima\\arima\\arima.py\", line 510, in _fit_wrapper\n",
      "    fitted = arima.fit(\n",
      "  File \"C:\\Users\\Sean\\AppData\\Roaming\\Python\\Python39\\site-packages\\statsmodels\\tsa\\statespace\\mlemodel.py\", line 704, in fit\n",
      "    mlefit = super(MLEModel, self).fit(start_params, method=method,\n",
      "  File \"C:\\Users\\Sean\\AppData\\Roaming\\Python\\Python39\\site-packages\\statsmodels\\base\\model.py\", line 563, in fit\n",
      "    xopt, retvals, optim_settings = optimizer._fit(f, score, start_params,\n",
      "  File \"C:\\Users\\Sean\\AppData\\Roaming\\Python\\Python39\\site-packages\\statsmodels\\base\\optimizer.py\", line 241, in _fit\n",
      "    xopt, retvals = func(objective, gradient, start_params, fargs, kwargs,\n",
      "  File \"C:\\Users\\Sean\\AppData\\Roaming\\Python\\Python39\\site-packages\\statsmodels\\base\\optimizer.py\", line 651, in _fit_lbfgs\n",
      "    retvals = optimize.fmin_l_bfgs_b(func, start_params, maxiter=maxiter,\n",
      "  File \"C:\\ProgramData\\Anaconda3\\lib\\site-packages\\scipy\\optimize\\lbfgsb.py\", line 197, in fmin_l_bfgs_b\n",
      "    res = _minimize_lbfgsb(fun, x0, args=args, jac=jac, bounds=bounds,\n",
      "  File \"C:\\ProgramData\\Anaconda3\\lib\\site-packages\\scipy\\optimize\\lbfgsb.py\", line 360, in _minimize_lbfgsb\n",
      "    f, g = func_and_grad(x)\n",
      "  File \"C:\\ProgramData\\Anaconda3\\lib\\site-packages\\scipy\\optimize\\_differentiable_functions.py\", line 267, in fun_and_grad\n",
      "    self._update_fun()\n",
      "  File \"C:\\ProgramData\\Anaconda3\\lib\\site-packages\\scipy\\optimize\\_differentiable_functions.py\", line 233, in _update_fun\n",
      "    self._update_fun_impl()\n",
      "  File \"C:\\ProgramData\\Anaconda3\\lib\\site-packages\\scipy\\optimize\\_differentiable_functions.py\", line 137, in update_fun\n",
      "    self.f = fun_wrapped(self.x)\n",
      "  File \"C:\\ProgramData\\Anaconda3\\lib\\site-packages\\scipy\\optimize\\_differentiable_functions.py\", line 134, in fun_wrapped\n",
      "    return fun(np.copy(x), *args)\n",
      "  File \"C:\\Users\\Sean\\AppData\\Roaming\\Python\\Python39\\site-packages\\statsmodels\\base\\model.py\", line 531, in f\n",
      "    return -self.loglike(params, *args) / nobs\n",
      "  File \"C:\\Users\\Sean\\AppData\\Roaming\\Python\\Python39\\site-packages\\statsmodels\\tsa\\statespace\\mlemodel.py\", line 939, in loglike\n",
      "    loglike = self.ssm.loglike(complex_step=complex_step, **kwargs)\n",
      "  File \"C:\\Users\\Sean\\AppData\\Roaming\\Python\\Python39\\site-packages\\statsmodels\\tsa\\statespace\\kalman_filter.py\", line 983, in loglike\n",
      "    kfilter = self._filter(**kwargs)\n",
      "  File \"C:\\Users\\Sean\\AppData\\Roaming\\Python\\Python39\\site-packages\\statsmodels\\tsa\\statespace\\kalman_filter.py\", line 903, in _filter\n",
      "    self._initialize_state(prefix=prefix, complex_step=complex_step)\n",
      "  File \"C:\\Users\\Sean\\AppData\\Roaming\\Python\\Python39\\site-packages\\statsmodels\\tsa\\statespace\\representation.py\", line 983, in _initialize_state\n",
      "    self._statespaces[prefix].initialize(self.initialization,\n",
      "  File \"statsmodels\\tsa\\statespace\\_representation.pyx\", line 1362, in statsmodels.tsa.statespace._representation.dStatespace.initialize\n",
      "  File \"statsmodels\\tsa\\statespace\\_initialization.pyx\", line 288, in statsmodels.tsa.statespace._initialization.dInitialization.initialize\n",
      "  File \"statsmodels\\tsa\\statespace\\_initialization.pyx\", line 406, in statsmodels.tsa.statespace._initialization.dInitialization.initialize_stationary_stationary_cov\n",
      "  File \"statsmodels\\tsa\\statespace\\_tools.pyx\", line 1284, in statsmodels.tsa.statespace._tools._dsolve_discrete_lyapunov\n",
      "numpy.linalg.LinAlgError: Schur decomposition solver error.\n",
      "\n",
      "  warnings.warn(warning_str, ModelFitWarning)\n"
     ]
    }
   ],
   "source": [
    "arima_model = pmdarima.arima.auto_arima(grouped_df['RATE'])\n",
    "p, d, q = arima_model.order\n",
    "arima_residuals = arima_model.arima_res_.resid"
   ]
  },
  {
   "cell_type": "code",
   "execution_count": 35,
   "id": "3dcced1e",
   "metadata": {
    "scrolled": false
   },
   "outputs": [
    {
     "name": "stdout",
     "output_type": "stream",
     "text": [
      "Iteration:      1,   Func. Count:      6,   Neg. LLF: 3587331.847154895\n",
      "Iteration:      2,   Func. Count:     12,   Neg. LLF: 32.084502708757796\n",
      "Iteration:      3,   Func. Count:     18,   Neg. LLF: 33.59781951949218\n",
      "Iteration:      4,   Func. Count:     24,   Neg. LLF: 29.522970543037196\n",
      "Iteration:      5,   Func. Count:     30,   Neg. LLF: 25.973811561172177\n",
      "Iteration:      6,   Func. Count:     36,   Neg. LLF: 23.353913998316955\n",
      "Iteration:      7,   Func. Count:     42,   Neg. LLF: 21.06777168326731\n",
      "Iteration:      8,   Func. Count:     48,   Neg. LLF: 11.027975855827071\n",
      "Iteration:      9,   Func. Count:     54,   Neg. LLF: 10.772957398827963\n",
      "Iteration:     10,   Func. Count:     59,   Neg. LLF: 10.748929848576191\n",
      "Iteration:     11,   Func. Count:     64,   Neg. LLF: 10.729477053361217\n",
      "Iteration:     12,   Func. Count:     69,   Neg. LLF: 10.638769984723371\n",
      "Iteration:     13,   Func. Count:     74,   Neg. LLF: 10.576544158015285\n",
      "Iteration:     14,   Func. Count:     79,   Neg. LLF: 10.56282422163519\n",
      "Iteration:     15,   Func. Count:     84,   Neg. LLF: 10.561347506220585\n",
      "Iteration:     16,   Func. Count:     89,   Neg. LLF: 10.560759066399758\n",
      "Iteration:     17,   Func. Count:     93,   Neg. LLF: 10.560759066431128\n",
      "Optimization terminated successfully    (Exit mode 0)\n",
      "            Current function value: 10.560759066399758\n",
      "            Iterations: 17\n",
      "            Function evaluations: 93\n",
      "            Gradient evaluations: 17\n"
     ]
    }
   ],
   "source": [
    "garch = arch.arch_model(arima_residuals, p=1, q=1)\n",
    "garch_fitted = garch.fit()"
   ]
  },
  {
   "cell_type": "code",
   "execution_count": 36,
   "id": "5e83175f",
   "metadata": {},
   "outputs": [
    {
     "name": "stderr",
     "output_type": "stream",
     "text": [
      "C:\\Users\\Sean\\AppData\\Roaming\\Python\\Python39\\site-packages\\statsmodels\\tsa\\base\\tsa_model.py:834: ValueWarning: No supported index is available. Prediction results will be given with an integer index beginning at `start`.\n",
      "  return get_prediction_index(\n"
     ]
    }
   ],
   "source": [
    "#Change n_periods=N to change how many years are being forecasted\n",
    "#I chose 5 instead of something like 10 since we only have like 8 data points, but feel free to experiment\n",
    "predicted_mu = arima_model.predict(n_periods=5)"
   ]
  },
  {
   "cell_type": "code",
   "execution_count": 37,
   "id": "0167f0fd",
   "metadata": {},
   "outputs": [
    {
     "name": "stderr",
     "output_type": "stream",
     "text": [
      "C:\\ProgramData\\Anaconda3\\lib\\site-packages\\arch\\__future__\\_utility.py:11: FutureWarning: \n",
      "The default for reindex is True. After September 2021 this will change to\n",
      "False. Set reindex to True or False to silence this message. Alternatively,\n",
      "you can use the import comment\n",
      "\n",
      "from arch.__future__ import reindexing\n",
      "\n",
      "to globally set reindex to True and silence this warning.\n",
      "\n",
      "  warnings.warn(\n"
     ]
    }
   ],
   "source": [
    "garch_forecast = garch_fitted.forecast(horizon=1)\n",
    "predicted_et = garch_forecast.mean['h.1'].iloc[-1]"
   ]
  },
  {
   "cell_type": "code",
   "execution_count": 38,
   "id": "9aed6feb",
   "metadata": {},
   "outputs": [],
   "source": [
    "prediction = predicted_mu + predicted_et"
   ]
  },
  {
   "cell_type": "code",
   "execution_count": 39,
   "id": "9042fbdf",
   "metadata": {},
   "outputs": [
    {
     "data": {
      "text/plain": [
       "8     16.422250\n",
       "9     15.995215\n",
       "10    15.640773\n",
       "11    15.346586\n",
       "12    15.102409\n",
       "dtype: float64"
      ]
     },
     "execution_count": 39,
     "metadata": {},
     "output_type": "execute_result"
    }
   ],
   "source": [
    "prediction"
   ]
  },
  {
   "cell_type": "code",
   "execution_count": 40,
   "id": "9cedafb2",
   "metadata": {},
   "outputs": [],
   "source": [
    "new_data = pd.DataFrame(prediction, columns=['FORECAST'])"
   ]
  },
  {
   "cell_type": "code",
   "execution_count": 41,
   "id": "ab9d59ad",
   "metadata": {},
   "outputs": [],
   "source": [
    "n = prediction.index[-1] + 1\n",
    "new_index = pd.Index(range(2014, 2014+n))\n",
    "pred_df = pd.concat([grouped_df, new_data], ignore_index=False).drop(['DEATHS'], axis=1)\n",
    "pred_df.index = new_index"
   ]
  },
  {
   "cell_type": "code",
   "execution_count": 42,
   "id": "55849a7a",
   "metadata": {},
   "outputs": [
    {
     "data": {
      "text/html": [
       "<div>\n",
       "<style scoped>\n",
       "    .dataframe tbody tr th:only-of-type {\n",
       "        vertical-align: middle;\n",
       "    }\n",
       "\n",
       "    .dataframe tbody tr th {\n",
       "        vertical-align: top;\n",
       "    }\n",
       "\n",
       "    .dataframe thead th {\n",
       "        text-align: right;\n",
       "    }\n",
       "</style>\n",
       "<table border=\"1\" class=\"dataframe\">\n",
       "  <thead>\n",
       "    <tr style=\"text-align: right;\">\n",
       "      <th></th>\n",
       "      <th>RATE</th>\n",
       "      <th>FORECAST</th>\n",
       "    </tr>\n",
       "  </thead>\n",
       "  <tbody>\n",
       "    <tr>\n",
       "      <th>2014</th>\n",
       "      <td>11.440</td>\n",
       "      <td>NaN</td>\n",
       "    </tr>\n",
       "    <tr>\n",
       "      <th>2015</th>\n",
       "      <td>12.406</td>\n",
       "      <td>NaN</td>\n",
       "    </tr>\n",
       "    <tr>\n",
       "      <th>2016</th>\n",
       "      <td>13.054</td>\n",
       "      <td>NaN</td>\n",
       "    </tr>\n",
       "    <tr>\n",
       "      <th>2017</th>\n",
       "      <td>13.552</td>\n",
       "      <td>NaN</td>\n",
       "    </tr>\n",
       "    <tr>\n",
       "      <th>2018</th>\n",
       "      <td>13.388</td>\n",
       "      <td>NaN</td>\n",
       "    </tr>\n",
       "    <tr>\n",
       "      <th>2019</th>\n",
       "      <td>13.428</td>\n",
       "      <td>NaN</td>\n",
       "    </tr>\n",
       "    <tr>\n",
       "      <th>2020</th>\n",
       "      <td>15.134</td>\n",
       "      <td>NaN</td>\n",
       "    </tr>\n",
       "    <tr>\n",
       "      <th>2021</th>\n",
       "      <td>16.360</td>\n",
       "      <td>NaN</td>\n",
       "    </tr>\n",
       "    <tr>\n",
       "      <th>2022</th>\n",
       "      <td>NaN</td>\n",
       "      <td>16.422250</td>\n",
       "    </tr>\n",
       "    <tr>\n",
       "      <th>2023</th>\n",
       "      <td>NaN</td>\n",
       "      <td>15.995215</td>\n",
       "    </tr>\n",
       "    <tr>\n",
       "      <th>2024</th>\n",
       "      <td>NaN</td>\n",
       "      <td>15.640773</td>\n",
       "    </tr>\n",
       "    <tr>\n",
       "      <th>2025</th>\n",
       "      <td>NaN</td>\n",
       "      <td>15.346586</td>\n",
       "    </tr>\n",
       "    <tr>\n",
       "      <th>2026</th>\n",
       "      <td>NaN</td>\n",
       "      <td>15.102409</td>\n",
       "    </tr>\n",
       "  </tbody>\n",
       "</table>\n",
       "</div>"
      ],
      "text/plain": [
       "        RATE   FORECAST\n",
       "2014  11.440        NaN\n",
       "2015  12.406        NaN\n",
       "2016  13.054        NaN\n",
       "2017  13.552        NaN\n",
       "2018  13.388        NaN\n",
       "2019  13.428        NaN\n",
       "2020  15.134        NaN\n",
       "2021  16.360        NaN\n",
       "2022     NaN  16.422250\n",
       "2023     NaN  15.995215\n",
       "2024     NaN  15.640773\n",
       "2025     NaN  15.346586\n",
       "2026     NaN  15.102409"
      ]
     },
     "execution_count": 42,
     "metadata": {},
     "output_type": "execute_result"
    }
   ],
   "source": [
    "pred_df"
   ]
  },
  {
   "cell_type": "code",
   "execution_count": 43,
   "id": "259cc4a2",
   "metadata": {},
   "outputs": [],
   "source": [
    "#Fills the NaN values in FORECAST with the values in RATE so the plot is a continuous line\n",
    "pred_df['FORECAST'] = pred_df['FORECAST'].fillna(pred_df['RATE'])"
   ]
  },
  {
   "cell_type": "code",
   "execution_count": 44,
   "id": "25330a11",
   "metadata": {},
   "outputs": [],
   "source": [
    "#Swaps column order so DataFrame.plot() displays the two lines properly (rate on top of forecast and not forecast on top)\n",
    "pred_df = pred_df[['FORECAST', 'RATE']]"
   ]
  },
  {
   "cell_type": "code",
   "execution_count": 45,
   "id": "f24fc784",
   "metadata": {},
   "outputs": [
    {
     "data": {
      "text/plain": [
       "<AxesSubplot:title={'center':'National Predicted Rate of Firearm Mortality'}, xlabel='Year', ylabel='Deaths per 100k Population'>"
      ]
     },
     "execution_count": 45,
     "metadata": {},
     "output_type": "execute_result"
    },
    {
     "data": {
      "image/png": "[encoded data removed]",
      "text/plain": [
       "<Figure size 432x288 with 1 Axes>"
      ]
     },
     "metadata": {
      "needs_background": "light"
     },
     "output_type": "display_data"
    }
   ],
   "source": [
    "pred_df.plot(title = \"National Predicted Rate of Firearm Mortality\", ylabel = \"Deaths per 100k Population\", xlabel= \"Year\")"
   ]
  },
  {
   "cell_type": "code",
   "execution_count": 33,
   "id": "5a3af89b",
   "metadata": {},
   "outputs": [
    {
     "name": "stdout",
     "output_type": "stream",
     "text": [
      "Iteration:      1,   Func. Count:      6,   Neg. LLF: 22.509184228630062\n",
      "Iteration:      2,   Func. Count:     13,   Neg. LLF: 274.03634893602805\n",
      "Iteration:      3,   Func. Count:     19,   Neg. LLF: 953.6739374896785\n",
      "Iteration:      4,   Func. Count:     25,   Neg. LLF: 5.338907251426648\n",
      "Iteration:      5,   Func. Count:     30,   Neg. LLF: 4.964141483061669\n",
      "Iteration:      6,   Func. Count:     35,   Neg. LLF: 4.8480289768302525\n",
      "Iteration:      7,   Func. Count:     40,   Neg. LLF: 4.690120116902052\n",
      "Iteration:      8,   Func. Count:     45,   Neg. LLF: 5.3398492515446065\n",
      "Iteration:      9,   Func. Count:     51,   Neg. LLF: 4.733637713131009\n",
      "Iteration:     10,   Func. Count:     57,   Neg. LLF: 4.456651708487269\n",
      "Iteration:     11,   Func. Count:     62,   Neg. LLF: 4.3103146323024735\n",
      "Iteration:     12,   Func. Count:     67,   Neg. LLF: 4.319907776920905\n",
      "Iteration:     13,   Func. Count:     73,   Neg. LLF: 4.293812923584492\n",
      "Iteration:     14,   Func. Count:     78,   Neg. LLF: 4.293748030266907\n",
      "Iteration:     15,   Func. Count:     82,   Neg. LLF: 4.2937480481644705\n",
      "Optimization terminated successfully    (Exit mode 0)\n",
      "            Current function value: 4.293748030266907\n",
      "            Iterations: 15\n",
      "            Function evaluations: 82\n",
      "            Gradient evaluations: 15\n"
     ]
    },
    {
     "name": "stderr",
     "output_type": "stream",
     "text": [
      "C:\\Users\\Sean\\AppData\\Roaming\\Python\\Python39\\site-packages\\statsmodels\\tsa\\base\\tsa_model.py:834: ValueWarning: No supported index is available. Prediction results will be given with an integer index beginning at `start`.\n",
      "  return get_prediction_index(\n",
      "C:\\ProgramData\\Anaconda3\\lib\\site-packages\\arch\\__future__\\_utility.py:11: FutureWarning: \n",
      "The default for reindex is True. After September 2021 this will change to\n",
      "False. Set reindex to True or False to silence this message. Alternatively,\n",
      "you can use the import comment\n",
      "\n",
      "from arch.__future__ import reindexing\n",
      "\n",
      "to globally set reindex to True and silence this warning.\n",
      "\n",
      "  warnings.warn(\n"
     ]
    },
    {
     "data": {
      "text/plain": [
       "<AxesSubplot:title={'center':'California Predicted Rate of Firearm Mortality'}, xlabel='Year', ylabel='Deaths per 100k Population'>"
      ]
     },
     "execution_count": 33,
     "metadata": {},
     "output_type": "execute_result"
    },
    {
     "data": {
      "image/png": "[encoded data removed]",
      "text/plain": [
       "<Figure size 432x288 with 1 Axes>"
      ]
     },
     "metadata": {
      "needs_background": "light"
     },
     "output_type": "display_data"
    }
   ],
   "source": [
    "arima_model = pmdarima.arima.auto_arima(ca_df['RATE'])\n",
    "p, d, q = arima_model.order\n",
    "arima_residuals = arima_model.arima_res_.resid\n",
    "\n",
    "garch = arch.arch_model(arima_residuals, p=1, q=1)\n",
    "garch_fitted = garch.fit()\n",
    "predicted_mu = arima_model.predict(n_periods=5)\n",
    "\n",
    "garch_forecast = garch_fitted.forecast(horizon=1)\n",
    "predicted_et = garch_forecast.mean['h.1'].iloc[-1]\n",
    "\n",
    "prediction = predicted_mu + predicted_et\n",
    "\n",
    "new_data = pd.DataFrame(prediction, columns=['FORECAST'])\n",
    "n = prediction.index[-1] + 1\n",
    "new_index = pd.Index(range(2014, 2014+n))\n",
    "pred_df = pd.concat([ca_df, new_data], ignore_index=False)\n",
    "pred_df.index = new_index\n",
    "\n",
    "pred_df['FORECAST'] = pred_df['FORECAST'].fillna(pred_df['RATE'])\n",
    "pred_df = pred_df[['FORECAST', 'RATE']]\n",
    "pred_df.plot(title = \"California Predicted Rate of Firearm Mortality\", ylabel = \"Deaths per 100k Population\", xlabel= \"Year\")"
   ]
  },
  {
   "cell_type": "code",
   "execution_count": 32,
   "id": "857d4a25",
   "metadata": {},
   "outputs": [
    {
     "name": "stdout",
     "output_type": "stream",
     "text": [
      "Iteration:      1,   Func. Count:      6,   Neg. LLF: 3781331.8676853403\n",
      "Iteration:      2,   Func. Count:     12,   Neg. LLF: 13.634308193613244\n",
      "Iteration:      3,   Func. Count:     18,   Neg. LLF: 15.653641258533504\n",
      "Iteration:      4,   Func. Count:     24,   Neg. LLF: 11.977980231161698\n",
      "Iteration:      5,   Func. Count:     30,   Neg. LLF: 10.559229450887067\n",
      "Iteration:      6,   Func. Count:     36,   Neg. LLF: 9.575401122568262\n",
      "Iteration:      7,   Func. Count:     42,   Neg. LLF: 7.815243788715933\n",
      "Iteration:      8,   Func. Count:     48,   Neg. LLF: 7.565090954177261\n",
      "Iteration:      9,   Func. Count:     53,   Neg. LLF: 7.536705134934669\n",
      "Iteration:     10,   Func. Count:     58,   Neg. LLF: 7.523264790726069\n",
      "Iteration:     11,   Func. Count:     63,   Neg. LLF: 7.507700092998792\n",
      "Iteration:     12,   Func. Count:     68,   Neg. LLF: 7.506207728100087\n",
      "Iteration:     13,   Func. Count:     73,   Neg. LLF: 7.505820476733321\n",
      "Iteration:     14,   Func. Count:     78,   Neg. LLF: 7.505805493609575\n",
      "Iteration:     15,   Func. Count:     82,   Neg. LLF: 7.505805493647302\n",
      "Optimization terminated successfully    (Exit mode 0)\n",
      "            Current function value: 7.505805493609575\n",
      "            Iterations: 15\n",
      "            Function evaluations: 82\n",
      "            Gradient evaluations: 15\n"
     ]
    },
    {
     "name": "stderr",
     "output_type": "stream",
     "text": [
      "C:\\Users\\Sean\\AppData\\Roaming\\Python\\Python39\\site-packages\\statsmodels\\tsa\\base\\tsa_model.py:834: ValueWarning: No supported index is available. Prediction results will be given with an integer index beginning at `start`.\n",
      "  return get_prediction_index(\n",
      "C:\\ProgramData\\Anaconda3\\lib\\site-packages\\arch\\__future__\\_utility.py:11: FutureWarning: \n",
      "The default for reindex is True. After September 2021 this will change to\n",
      "False. Set reindex to True or False to silence this message. Alternatively,\n",
      "you can use the import comment\n",
      "\n",
      "from arch.__future__ import reindexing\n",
      "\n",
      "to globally set reindex to True and silence this warning.\n",
      "\n",
      "  warnings.warn(\n"
     ]
    },
    {
     "data": {
      "text/plain": [
       "<AxesSubplot:title={'center':'Florida Predicted Rate of Firearm Mortality'}, xlabel='Year', ylabel='Deaths per 100k Population'>"
      ]
     },
     "execution_count": 32,
     "metadata": {},
     "output_type": "execute_result"
    },
    {
     "data": {
      "image/png": "[encoded data removed]",
      "text/plain": [
       "<Figure size 432x288 with 1 Axes>"
      ]
     },
     "metadata": {
      "needs_background": "light"
     },
     "output_type": "display_data"
    }
   ],
   "source": [
    "arima_model = pmdarima.arima.auto_arima(fl_df['RATE'])\n",
    "p, d, q = arima_model.order\n",
    "arima_residuals = arima_model.arima_res_.resid\n",
    "\n",
    "garch = arch.arch_model(arima_residuals, p=1, q=1)\n",
    "garch_fitted = garch.fit()\n",
    "predicted_mu = arima_model.predict(n_periods=5)\n",
    "\n",
    "garch_forecast = garch_fitted.forecast(horizon=1)\n",
    "predicted_et = garch_forecast.mean['h.1'].iloc[-1]\n",
    "\n",
    "prediction = predicted_mu + predicted_et\n",
    "\n",
    "new_data = pd.DataFrame(prediction, columns=['FORECAST'])\n",
    "n = prediction.index[-1] + 1\n",
    "new_index = pd.Index(range(2014, 2014+n))\n",
    "pred_df = pd.concat([fl_df, new_data], ignore_index=False)\n",
    "pred_df.index = new_index\n",
    "\n",
    "pred_df['FORECAST'] = pred_df['FORECAST'].fillna(pred_df['RATE'])\n",
    "pred_df = pred_df[['FORECAST', 'RATE']]\n",
    "\n",
    "\n",
    "pred_df.plot(title = \"Florida Predicted Rate of Firearm Mortality\", ylabel = \"Deaths per 100k Population\", xlabel= \"Year\" )"
   ]
  },
  {
   "cell_type": "code",
   "execution_count": 46,
   "id": "74fb86b9",
   "metadata": {},
   "outputs": [
    {
     "name": "stdout",
     "output_type": "stream",
     "text": [
      "Iteration:      1,   Func. Count:      6,   Neg. LLF: 16.74929470441534\n",
      "Iteration:      2,   Func. Count:     13,   Neg. LLF: 105.59948851591598\n",
      "Iteration:      3,   Func. Count:     19,   Neg. LLF: 6.342343056835299\n",
      "Iteration:      4,   Func. Count:     24,   Neg. LLF: 6.3004272285024605\n",
      "Iteration:      5,   Func. Count:     29,   Neg. LLF: 6.268425848946882\n",
      "Iteration:      6,   Func. Count:     34,   Neg. LLF: 6.255681087476788\n",
      "Iteration:      7,   Func. Count:     39,   Neg. LLF: 6.254264605760127\n",
      "Iteration:      8,   Func. Count:     44,   Neg. LLF: 6.254224149076839\n",
      "Iteration:      9,   Func. Count:     48,   Neg. LLF: 6.254224168375232\n",
      "Optimization terminated successfully    (Exit mode 0)\n",
      "            Current function value: 6.254224149076839\n",
      "            Iterations: 9\n",
      "            Function evaluations: 48\n",
      "            Gradient evaluations: 9\n"
     ]
    },
    {
     "name": "stderr",
     "output_type": "stream",
     "text": [
      "C:\\Users\\Sean\\AppData\\Roaming\\Python\\Python39\\site-packages\\statsmodels\\tsa\\base\\tsa_model.py:834: ValueWarning: No supported index is available. Prediction results will be given with an integer index beginning at `start`.\n",
      "  return get_prediction_index(\n",
      "C:\\ProgramData\\Anaconda3\\lib\\site-packages\\arch\\__future__\\_utility.py:11: FutureWarning: \n",
      "The default for reindex is True. After September 2021 this will change to\n",
      "False. Set reindex to True or False to silence this message. Alternatively,\n",
      "you can use the import comment\n",
      "\n",
      "from arch.__future__ import reindexing\n",
      "\n",
      "to globally set reindex to True and silence this warning.\n",
      "\n",
      "  warnings.warn(\n"
     ]
    },
    {
     "data": {
      "text/plain": [
       "<AxesSubplot:title={'center':'New York Predicted Rate of Firearm Mortality'}, xlabel='Year', ylabel='Deaths per 100k Population'>"
      ]
     },
     "execution_count": 46,
     "metadata": {},
     "output_type": "execute_result"
    },
    {
     "data": {
      "image/png": "[encoded data removed]",
      "text/plain": [
       "<Figure size 432x288 with 1 Axes>"
      ]
     },
     "metadata": {
      "needs_background": "light"
     },
     "output_type": "display_data"
    }
   ],
   "source": [
    "arima_model = pmdarima.arima.auto_arima(ny_df['RATE'])\n",
    "p, d, q = arima_model.order\n",
    "arima_residuals = arima_model.arima_res_.resid\n",
    "\n",
    "garch = arch.arch_model(arima_residuals, p=1, q=1)\n",
    "garch_fitted = garch.fit()\n",
    "predicted_mu = arima_model.predict(n_periods=5)\n",
    "\n",
    "garch_forecast = garch_fitted.forecast(horizon=1)\n",
    "predicted_et = garch_forecast.mean['h.1'].iloc[-1]\n",
    "\n",
    "prediction = predicted_mu + predicted_et\n",
    "\n",
    "new_data = pd.DataFrame(prediction, columns=['FORECAST'])\n",
    "n = prediction.index[-1] + 1\n",
    "new_index = pd.Index(range(2014, 2014+n))\n",
    "pred_df = pd.concat([ny_df, new_data], ignore_index=False)\n",
    "pred_df.index = new_index\n",
    "\n",
    "pred_df['FORECAST'] = pred_df['FORECAST'].fillna(pred_df['RATE'])\n",
    "pred_df = pred_df[['FORECAST', 'RATE']]\n",
    "pred_df.plot(title = \"New York Predicted Rate of Firearm Mortality\", ylabel = \"Deaths per 100k Population\", xlabel= \"Year\")"
   ]
  },
  {
   "cell_type": "code",
   "execution_count": 47,
   "id": "f24c8947",
   "metadata": {},
   "outputs": [
    {
     "name": "stderr",
     "output_type": "stream",
     "text": [
      "C:\\Users\\Sean\\AppData\\Roaming\\Python\\Python39\\site-packages\\pmdarima\\arima\\_auto_solvers.py:524: ModelFitWarning: Error fitting  ARIMA(1,0,2)(0,0,0)[0] intercept (if you do not want to see these warnings, run with error_action=\"ignore\").\n",
      "Traceback:\n",
      "Traceback (most recent call last):\n",
      "  File \"C:\\Users\\Sean\\AppData\\Roaming\\Python\\Python39\\site-packages\\pmdarima\\arima\\_auto_solvers.py\", line 508, in _fit_candidate_model\n",
      "    fit.fit(y, X=X, **fit_params)\n",
      "  File \"C:\\Users\\Sean\\AppData\\Roaming\\Python\\Python39\\site-packages\\pmdarima\\arima\\arima.py\", line 603, in fit\n",
      "    self._fit(y, X, **fit_args)\n",
      "  File \"C:\\Users\\Sean\\AppData\\Roaming\\Python\\Python39\\site-packages\\pmdarima\\arima\\arima.py\", line 524, in _fit\n",
      "    fit, self.arima_res_ = _fit_wrapper()\n",
      "  File \"C:\\Users\\Sean\\AppData\\Roaming\\Python\\Python39\\site-packages\\pmdarima\\arima\\arima.py\", line 510, in _fit_wrapper\n",
      "    fitted = arima.fit(\n",
      "  File \"C:\\Users\\Sean\\AppData\\Roaming\\Python\\Python39\\site-packages\\statsmodels\\tsa\\statespace\\mlemodel.py\", line 704, in fit\n",
      "    mlefit = super(MLEModel, self).fit(start_params, method=method,\n",
      "  File \"C:\\Users\\Sean\\AppData\\Roaming\\Python\\Python39\\site-packages\\statsmodels\\base\\model.py\", line 563, in fit\n",
      "    xopt, retvals, optim_settings = optimizer._fit(f, score, start_params,\n",
      "  File \"C:\\Users\\Sean\\AppData\\Roaming\\Python\\Python39\\site-packages\\statsmodels\\base\\optimizer.py\", line 241, in _fit\n",
      "    xopt, retvals = func(objective, gradient, start_params, fargs, kwargs,\n",
      "  File \"C:\\Users\\Sean\\AppData\\Roaming\\Python\\Python39\\site-packages\\statsmodels\\base\\optimizer.py\", line 651, in _fit_lbfgs\n",
      "    retvals = optimize.fmin_l_bfgs_b(func, start_params, maxiter=maxiter,\n",
      "  File \"C:\\ProgramData\\Anaconda3\\lib\\site-packages\\scipy\\optimize\\lbfgsb.py\", line 197, in fmin_l_bfgs_b\n",
      "    res = _minimize_lbfgsb(fun, x0, args=args, jac=jac, bounds=bounds,\n",
      "  File \"C:\\ProgramData\\Anaconda3\\lib\\site-packages\\scipy\\optimize\\lbfgsb.py\", line 360, in _minimize_lbfgsb\n",
      "    f, g = func_and_grad(x)\n",
      "  File \"C:\\ProgramData\\Anaconda3\\lib\\site-packages\\scipy\\optimize\\_differentiable_functions.py\", line 267, in fun_and_grad\n",
      "    self._update_fun()\n",
      "  File \"C:\\ProgramData\\Anaconda3\\lib\\site-packages\\scipy\\optimize\\_differentiable_functions.py\", line 233, in _update_fun\n",
      "    self._update_fun_impl()\n",
      "  File \"C:\\ProgramData\\Anaconda3\\lib\\site-packages\\scipy\\optimize\\_differentiable_functions.py\", line 137, in update_fun\n",
      "    self.f = fun_wrapped(self.x)\n",
      "  File \"C:\\ProgramData\\Anaconda3\\lib\\site-packages\\scipy\\optimize\\_differentiable_functions.py\", line 134, in fun_wrapped\n",
      "    return fun(np.copy(x), *args)\n",
      "  File \"C:\\Users\\Sean\\AppData\\Roaming\\Python\\Python39\\site-packages\\statsmodels\\base\\model.py\", line 531, in f\n",
      "    return -self.loglike(params, *args) / nobs\n",
      "  File \"C:\\Users\\Sean\\AppData\\Roaming\\Python\\Python39\\site-packages\\statsmodels\\tsa\\statespace\\mlemodel.py\", line 939, in loglike\n",
      "    loglike = self.ssm.loglike(complex_step=complex_step, **kwargs)\n",
      "  File \"C:\\Users\\Sean\\AppData\\Roaming\\Python\\Python39\\site-packages\\statsmodels\\tsa\\statespace\\kalman_filter.py\", line 983, in loglike\n",
      "    kfilter = self._filter(**kwargs)\n",
      "  File \"C:\\Users\\Sean\\AppData\\Roaming\\Python\\Python39\\site-packages\\statsmodels\\tsa\\statespace\\kalman_filter.py\", line 903, in _filter\n",
      "    self._initialize_state(prefix=prefix, complex_step=complex_step)\n",
      "  File \"C:\\Users\\Sean\\AppData\\Roaming\\Python\\Python39\\site-packages\\statsmodels\\tsa\\statespace\\representation.py\", line 983, in _initialize_state\n",
      "    self._statespaces[prefix].initialize(self.initialization,\n",
      "  File \"statsmodels\\tsa\\statespace\\_representation.pyx\", line 1362, in statsmodels.tsa.statespace._representation.dStatespace.initialize\n",
      "  File \"statsmodels\\tsa\\statespace\\_initialization.pyx\", line 288, in statsmodels.tsa.statespace._initialization.dInitialization.initialize\n",
      "  File \"statsmodels\\tsa\\statespace\\_initialization.pyx\", line 406, in statsmodels.tsa.statespace._initialization.dInitialization.initialize_stationary_stationary_cov\n",
      "  File \"statsmodels\\tsa\\statespace\\_tools.pyx\", line 1284, in statsmodels.tsa.statespace._tools._dsolve_discrete_lyapunov\n",
      "numpy.linalg.LinAlgError: Schur decomposition solver error.\n",
      "\n",
      "  warnings.warn(warning_str, ModelFitWarning)\n"
     ]
    },
    {
     "name": "stdout",
     "output_type": "stream",
     "text": [
      "Iteration:      1,   Func. Count:      6,   Neg. LLF: 3505971.664313037\n",
      "Iteration:      2,   Func. Count:     12,   Neg. LLF: 11.379723486080279\n",
      "Iteration:      3,   Func. Count:     18,   Neg. LLF: 46.916507380598595\n",
      "Iteration:      4,   Func. Count:     24,   Neg. LLF: 37.093821483115306\n",
      "Iteration:      5,   Func. Count:     30,   Neg. LLF: 26.832265314629385\n",
      "Iteration:      6,   Func. Count:     36,   Neg. LLF: 11.602643478118548\n",
      "Iteration:      7,   Func. Count:     42,   Neg. LLF: 18.118426958671492\n",
      "Iteration:      8,   Func. Count:     48,   Neg. LLF: 11.359601335136183\n",
      "Iteration:      9,   Func. Count:     54,   Neg. LLF: 11.274806650583551\n",
      "Iteration:     10,   Func. Count:     59,   Neg. LLF: 11.229718905642141\n",
      "Iteration:     11,   Func. Count:     64,   Neg. LLF: 11.151795052490023\n",
      "Iteration:     12,   Func. Count:     69,   Neg. LLF: 10.716782520288449\n",
      "Iteration:     13,   Func. Count:     74,   Neg. LLF: 10.70879128259389\n",
      "Iteration:     14,   Func. Count:     80,   Neg. LLF: 10.681059700554997\n",
      "Iteration:     15,   Func. Count:     85,   Neg. LLF: 10.680965748472309\n",
      "Iteration:     16,   Func. Count:     89,   Neg. LLF: 10.680965748524498\n",
      "Optimization terminated successfully    (Exit mode 0)\n",
      "            Current function value: 10.680965748472309\n",
      "            Iterations: 16\n",
      "            Function evaluations: 89\n",
      "            Gradient evaluations: 16\n"
     ]
    },
    {
     "name": "stderr",
     "output_type": "stream",
     "text": [
      "C:\\Users\\Sean\\AppData\\Roaming\\Python\\Python39\\site-packages\\statsmodels\\tsa\\base\\tsa_model.py:834: ValueWarning: No supported index is available. Prediction results will be given with an integer index beginning at `start`.\n",
      "  return get_prediction_index(\n",
      "C:\\ProgramData\\Anaconda3\\lib\\site-packages\\arch\\__future__\\_utility.py:11: FutureWarning: \n",
      "The default for reindex is True. After September 2021 this will change to\n",
      "False. Set reindex to True or False to silence this message. Alternatively,\n",
      "you can use the import comment\n",
      "\n",
      "from arch.__future__ import reindexing\n",
      "\n",
      "to globally set reindex to True and silence this warning.\n",
      "\n",
      "  warnings.warn(\n"
     ]
    },
    {
     "data": {
      "text/plain": [
       "<AxesSubplot:title={'center':'Texas Predicted Rate of Firearm Mortality'}, xlabel='Year', ylabel='Deaths per 100k Population'>"
      ]
     },
     "execution_count": 47,
     "metadata": {},
     "output_type": "execute_result"
    },
    {
     "data": {
      "image/png": "[encoded data removed]",
      "text/plain": [
       "<Figure size 432x288 with 1 Axes>"
      ]
     },
     "metadata": {
      "needs_background": "light"
     },
     "output_type": "display_data"
    }
   ],
   "source": [
    "arima_model = pmdarima.arima.auto_arima(tx_df['RATE'])\n",
    "p, d, q = arima_model.order\n",
    "arima_residuals = arima_model.arima_res_.resid\n",
    "\n",
    "garch = arch.arch_model(arima_residuals, p=1, q=1)\n",
    "garch_fitted = garch.fit()\n",
    "predicted_mu = arima_model.predict(n_periods=5)\n",
    "\n",
    "garch_forecast = garch_fitted.forecast(horizon=1)\n",
    "predicted_et = garch_forecast.mean['h.1'].iloc[-1]\n",
    "\n",
    "prediction = predicted_mu + predicted_et\n",
    "\n",
    "new_data = pd.DataFrame(prediction, columns=['FORECAST'])\n",
    "n = prediction.index[-1] + 1\n",
    "new_index = pd.Index(range(2014, 2014+n))\n",
    "pred_df = pd.concat([tx_df, new_data], ignore_index=False)\n",
    "pred_df.index = new_index\n",
    "\n",
    "pred_df['FORECAST'] = pred_df['FORECAST'].fillna(pred_df['RATE'])\n",
    "pred_df = pred_df[['FORECAST', 'RATE']]\n",
    "pred_df.plot(title = \"Texas Predicted Rate of Firearm Mortality\", ylabel = \"Deaths per 100k Population\", xlabel= \"Year\")"
   ]
  },
  {
   "cell_type": "code",
   "execution_count": 50,
   "id": "d1289e58",
   "metadata": {},
   "outputs": [
    {
     "name": "stdout",
     "output_type": "stream",
     "text": [
      "Iteration:      1,   Func. Count:      6,   Neg. LLF: 21.085606456017302\n",
      "Iteration:      2,   Func. Count:     12,   Neg. LLF: 19.562297978129436\n",
      "Iteration:      3,   Func. Count:     17,   Neg. LLF: 19.559048877118194\n",
      "Iteration:      4,   Func. Count:     22,   Neg. LLF: 19.540998455553844\n",
      "Iteration:      5,   Func. Count:     27,   Neg. LLF: 19.49359100978738\n",
      "Iteration:      6,   Func. Count:     32,   Neg. LLF: 19.489487231637945\n",
      "Iteration:      7,   Func. Count:     38,   Neg. LLF: 19.473108850139162\n",
      "Iteration:      8,   Func. Count:     43,   Neg. LLF: 19.472753932269434\n",
      "Iteration:      9,   Func. Count:     48,   Neg. LLF: 19.472749983243922\n",
      "Iteration:     10,   Func. Count:     52,   Neg. LLF: 19.472749983241137\n",
      "Optimization terminated successfully    (Exit mode 0)\n",
      "            Current function value: 19.472749983243922\n",
      "            Iterations: 10\n",
      "            Function evaluations: 52\n",
      "            Gradient evaluations: 10\n"
     ]
    },
    {
     "name": "stderr",
     "output_type": "stream",
     "text": [
      "C:\\Users\\Sean\\AppData\\Roaming\\Python\\Python39\\site-packages\\statsmodels\\tsa\\base\\tsa_model.py:834: ValueWarning: No supported index is available. Prediction results will be given with an integer index beginning at `start`.\n",
      "  return get_prediction_index(\n",
      "C:\\ProgramData\\Anaconda3\\lib\\site-packages\\arch\\__future__\\_utility.py:11: FutureWarning: \n",
      "The default for reindex is True. After September 2021 this will change to\n",
      "False. Set reindex to True or False to silence this message. Alternatively,\n",
      "you can use the import comment\n",
      "\n",
      "from arch.__future__ import reindexing\n",
      "\n",
      "to globally set reindex to True and silence this warning.\n",
      "\n",
      "  warnings.warn(\n"
     ]
    },
    {
     "data": {
      "text/plain": [
       "<AxesSubplot:title={'center':'New Mexico Predicted Rate of Firearm Mortality'}, xlabel='Year', ylabel='Deaths per 100k Population'>"
      ]
     },
     "execution_count": 50,
     "metadata": {},
     "output_type": "execute_result"
    },
    {
     "data": {
      "image/png": "[encoded data removed]",
      "text/plain": [
       "<Figure size 432x288 with 1 Axes>"
      ]
     },
     "metadata": {
      "needs_background": "light"
     },
     "output_type": "display_data"
    }
   ],
   "source": [
    "arima_model = pmdarima.arima.auto_arima(nm_df['RATE'])\n",
    "p, d, q = arima_model.order\n",
    "arima_residuals = arima_model.arima_res_.resid\n",
    "\n",
    "garch = arch.arch_model(arima_residuals, p=1, q=1)\n",
    "garch_fitted = garch.fit()\n",
    "predicted_mu = arima_model.predict(n_periods=5)\n",
    "\n",
    "garch_forecast = garch_fitted.forecast(horizon=1)\n",
    "predicted_et = garch_forecast.mean['h.1'].iloc[-1]\n",
    "\n",
    "prediction = predicted_mu + predicted_et\n",
    "\n",
    "new_data = pd.DataFrame(prediction, columns=['FORECAST'])\n",
    "n = prediction.index[-1] + 1\n",
    "new_index = pd.Index(range(2014, 2014+n))\n",
    "pred_df = pd.concat([nm_df, new_data], ignore_index=False)\n",
    "pred_df.index = new_index\n",
    "\n",
    "pred_df['FORECAST'] = pred_df['FORECAST'].fillna(pred_df['RATE'])\n",
    "pred_df = pred_df[['FORECAST', 'RATE']]\n",
    "pred_df.plot(title = \"New Mexico Predicted Rate of Firearm Mortality\", ylabel = \"Deaths per 100k Population\", xlabel= \"Year\")"
   ]
  },
  {
   "cell_type": "code",
   "execution_count": 51,
   "id": "d844e901",
   "metadata": {},
   "outputs": [
    {
     "name": "stdout",
     "output_type": "stream",
     "text": [
      "Iteration:      1,   Func. Count:      6,   Neg. LLF: 17.42443261086737\n",
      "Iteration:      2,   Func. Count:     15,   Neg. LLF: 7.619260515036187\n",
      "Iteration:      3,   Func. Count:     21,   Neg. LLF: 7.367105121739009\n",
      "Iteration:      4,   Func. Count:     26,   Neg. LLF: 7.3657344521211305\n",
      "Iteration:      5,   Func. Count:     31,   Neg. LLF: 7.364710506949725\n",
      "Iteration:      6,   Func. Count:     36,   Neg. LLF: 7.364633280636504\n",
      "Iteration:      7,   Func. Count:     41,   Neg. LLF: 7.364617664578796\n",
      "Iteration:      8,   Func. Count:     46,   Neg. LLF: 7.364614977137844\n",
      "Iteration:      9,   Func. Count:     50,   Neg. LLF: 7.364614977127148\n",
      "Optimization terminated successfully    (Exit mode 0)\n",
      "            Current function value: 7.364614977137844\n",
      "            Iterations: 9\n",
      "            Function evaluations: 50\n",
      "            Gradient evaluations: 9\n"
     ]
    },
    {
     "name": "stderr",
     "output_type": "stream",
     "text": [
      "C:\\Users\\Sean\\AppData\\Roaming\\Python\\Python39\\site-packages\\statsmodels\\tsa\\base\\tsa_model.py:834: ValueWarning: No supported index is available. Prediction results will be given with an integer index beginning at `start`.\n",
      "  return get_prediction_index(\n",
      "C:\\ProgramData\\Anaconda3\\lib\\site-packages\\arch\\__future__\\_utility.py:11: FutureWarning: \n",
      "The default for reindex is True. After September 2021 this will change to\n",
      "False. Set reindex to True or False to silence this message. Alternatively,\n",
      "you can use the import comment\n",
      "\n",
      "from arch.__future__ import reindexing\n",
      "\n",
      "to globally set reindex to True and silence this warning.\n",
      "\n",
      "  warnings.warn(\n"
     ]
    },
    {
     "data": {
      "text/plain": [
       "<AxesSubplot:title={'center':'Nebraska Predicted Rate of Firearm Mortality'}, xlabel='Year', ylabel='Deaths per 100k Population'>"
      ]
     },
     "execution_count": 51,
     "metadata": {},
     "output_type": "execute_result"
    },
    {
     "data": {
      "image/png": "[encoded data removed]",
      "text/plain": [
       "<Figure size 432x288 with 1 Axes>"
      ]
     },
     "metadata": {
      "needs_background": "light"
     },
     "output_type": "display_data"
    }
   ],
   "source": [
    "arima_model = pmdarima.arima.auto_arima(ne_df['RATE'])\n",
    "p, d, q = arima_model.order\n",
    "arima_residuals = arima_model.arima_res_.resid\n",
    "\n",
    "garch = arch.arch_model(arima_residuals, p=1, q=1)\n",
    "garch_fitted = garch.fit()\n",
    "predicted_mu = arima_model.predict(n_periods=5)\n",
    "\n",
    "garch_forecast = garch_fitted.forecast(horizon=1)\n",
    "predicted_et = garch_forecast.mean['h.1'].iloc[-1]\n",
    "\n",
    "prediction = predicted_mu + predicted_et\n",
    "\n",
    "new_data = pd.DataFrame(prediction, columns=['FORECAST'])\n",
    "n = prediction.index[-1] + 1\n",
    "new_index = pd.Index(range(2014, 2014+n))\n",
    "pred_df = pd.concat([ne_df, new_data], ignore_index=False)\n",
    "pred_df.index = new_index\n",
    "\n",
    "pred_df['FORECAST'] = pred_df['FORECAST'].fillna(pred_df['RATE'])\n",
    "pred_df = pred_df[['FORECAST', 'RATE']]\n",
    "pred_df.plot(title = \"Nebraska Predicted Rate of Firearm Mortality\", ylabel = \"Deaths per 100k Population\", xlabel= \"Year\")"
   ]
  },
  {
   "cell_type": "code",
   "execution_count": null,
   "id": "af5b5b99",
   "metadata": {},
   "outputs": [],
   "source": []
  }
 ],
 "metadata": {
  "kernelspec": {
   "display_name": "Python 3 (ipykernel)",
   "language": "python",
   "name": "python3"
  },
  "language_info": {
   "codemirror_mode": {
    "name": "ipython",
    "version": 3
   },
   "file_extension": ".py",
   "mimetype": "text/x-python",
   "name": "python",
   "nbconvert_exporter": "python",
   "pygments_lexer": "ipython3",
   "version": "3.9.7"
  }
 },
 "nbformat": 4,
 "nbformat_minor": 5
}
